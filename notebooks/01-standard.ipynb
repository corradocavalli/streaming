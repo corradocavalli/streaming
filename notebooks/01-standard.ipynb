{
 "cells": [
  {
   "cell_type": "code",
   "execution_count": 1,
   "metadata": {},
   "outputs": [],
   "source": [
    "import os\n",
    "import json\n",
    "from openai import AzureOpenAI\n",
    "from dotenv import load_dotenv\n",
    "\n",
    "# Environment setup\n",
    "load_dotenv()\n",
    "api_key=os.environ['AZURE_OPENAI_KEY']\n",
    "deployment=os.environ['AZURE_OPENAI_DEPLOYMENT']\n",
    "api_version=os.environ['AZURE_OPENAI_VERSION']\n",
    "endpoint=os.environ['AZURE_OPENAI_ENDPOINT']\n",
    "\n",
    "#Initialize AzureOpenAI client\n",
    "client = AzureOpenAI(\n",
    "  azure_endpoint=endpoint,\n",
    "  api_key=api_key,  \n",
    "  api_version = api_version,\n",
    "  \n",
    "  )"
   ]
  },
  {
   "cell_type": "code",
   "execution_count": 2,
   "metadata": {},
   "outputs": [],
   "source": [
    "\n",
    "system_message = \"You are an assistant good in telling funny stories\"\n",
    "user_message = \"Tell me a funny story about a cat\""
   ]
  },
  {
   "cell_type": "code",
   "execution_count": 3,
   "metadata": {},
   "outputs": [
    {
     "name": "stdout",
     "output_type": "stream",
     "text": [
      "Once upon a time, in a quiet suburban neighborhood, lived a cat named Whiskers. Whiskers was not your ordinary cat. He was a cat with an attitude and a peculiar fascination for the neighbor's goldfish, Goldie.\n",
      "\n",
      "Every day, Whiskers would sit by the window, staring at Goldie swimming in her little fishbowl in the neighbor's house. He would dream about the day he would finally get to meet her. But there was one problem - Whiskers was terrified of water.\n",
      "\n",
      "One day, Whiskers decided to put his fear aside. He was determined to meet Goldie. He waited until the neighbors left their house, then he sneaked in through the open window. He tiptoed towards the fishbowl, his heart pounding with excitement and fear.\n",
      "\n",
      "As he leaned over the bowl to say hello, he lost his balance and fell right into the fishbowl! The water was cold and terrifying. Whiskers yowled and splashed, creating a huge mess. Goldie, on the other hand, was having the time of her life, swimming around Whiskers in circles.\n",
      "\n",
      "Just then, the neighbors returned. They found a drenched Whiskers, a fishbowl turned upside down, and a very amused Goldie swimming in a puddle on the floor. Whiskers was so embarrassed that he ran out of the house as fast as he could, leaving a trail of water behind him.\n",
      "\n",
      "From that day forward, Whiskers decided to admire Goldie from a safe distance. And every time he saw a fishbowl, he would remember his embarrassing adventure and his fear of water. As for Goldie, she had a great story to tell her fish friends about the day she met a cat in her bowl!\n",
      "\n",
      "And that's the funny story of Whiskers, the cat who was afraid of water but loved a goldfish.\n"
     ]
    }
   ],
   "source": [
    "response = client.chat.completions.create(\n",
    "  model=deployment,    \n",
    "  messages = [\n",
    "      {'role': 'system', 'content': system_message},\n",
    "      {'role': 'user', 'content': user_message}\n",
    "      ],\n",
    "  temperature=0\n",
    "  )\n",
    "\n",
    "result= response.choices[0].message.content\n",
    "print(result)"
   ]
  }
 ],
 "metadata": {
  "language_info": {
   "name": "python"
  }
 },
 "nbformat": 4,
 "nbformat_minor": 2
}
