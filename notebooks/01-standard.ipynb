{
 "cells": [
  {
   "cell_type": "code",
   "execution_count": 1,
   "metadata": {},
   "outputs": [],
   "source": [
    "import os\n",
    "import json\n",
    "from openai import AzureOpenAI\n",
    "from dotenv import load_dotenv\n",
    "\n",
    "# Environment setup\n",
    "load_dotenv()\n",
    "api_key=os.environ['AZURE_OPENAI_KEY']\n",
    "deployment=os.environ['AZURE_OPENAI_DEPLOYMENT']\n",
    "api_version=os.environ['AZURE_OPENAI_VERSION']\n",
    "endpoint=os.environ['AZURE_OPENAI_ENDPOINT']\n",
    "\n",
    "#Initialize AzureOpenAI client\n",
    "client = AzureOpenAI(\n",
    "  azure_endpoint=endpoint,\n",
    "  api_key=api_key,  \n",
    "  api_version = api_version,\n",
    "  \n",
    "  )"
   ]
  },
  {
   "cell_type": "code",
   "execution_count": 2,
   "metadata": {},
   "outputs": [],
   "source": [
    "\n",
    "system_message = \"You are an assistant good in telling funny stories\"\n",
    "user_message = \"Tell me a funny story about a cat\""
   ]
  },
  {
   "cell_type": "code",
   "execution_count": 3,
   "metadata": {},
   "outputs": [
    {
     "name": "stdout",
     "output_type": "stream",
     "text": [
      "Sure, here's a funny story about a cat named Whiskers.\n",
      "\n",
      "Whiskers was not your ordinary cat. He was a big, fluffy, orange tabby who had a peculiar obsession with the neighbor's goldfish, Goldie. Every day, Whiskers would sit by the window, staring longingly at Goldie swimming in her little pond next door.\n",
      "\n",
      "One day, Whiskers decided he had had enough of just watching. He was going to meet Goldie. So, he devised a plan. He noticed that the neighbor's dog, a big, grumpy bulldog named Brutus, was scared of cucumbers. Whiskers had seen a video on the internet about it. So, he stole a cucumber from his owner's kitchen and carried it over to the neighbor's yard.\n",
      "\n",
      "As he had planned, Brutus ran away yelping as soon as he saw the cucumber. With the coast clear, Whiskers approached the pond. But, as he leaned over to touch the water, he lost his balance and fell in with a big splash!\n",
      "\n",
      "Whiskers was flailing in the water, creating a spectacle. Goldie, who had been peacefully swimming, was now darting around in panic. The commotion attracted the attention of the neighbors, who came out to see a drenched Whiskers struggling in the pond.\n",
      "\n",
      "The neighbor, Mrs. Jenkins, quickly fished Whiskers out of the pond. She was trying hard not to laugh as she handed the soggy, embarrassed cat back to his owner. From that day on, Whiskers decided that watching Goldie from the safety of his window was adventure enough for him.\n",
      "\n",
      "And the cucumber? Well, it became a permanent fixture in Brutus's yard, serving as a reminder to Whiskers of his hilarious and failed adventure.\n"
     ]
    }
   ],
   "source": [
    "response = client.chat.completions.create(\n",
    "  model=deployment,    \n",
    "  messages = [\n",
    "      {'role': 'system', 'content': system_message},\n",
    "      {'role': 'user', 'content': user_message}\n",
    "      ],\n",
    "  temperature=0\n",
    "  )\n",
    "\n",
    "result= response.choices[0].message.content\n",
    "print(result)"
   ]
  }
 ],
 "metadata": {
  "language_info": {
   "name": "python"
  }
 },
 "nbformat": 4,
 "nbformat_minor": 2
}
