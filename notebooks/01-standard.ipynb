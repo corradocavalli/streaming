{
 "cells": [
  {
   "cell_type": "code",
   "execution_count": 1,
   "metadata": {},
   "outputs": [],
   "source": [
    "import os\n",
    "import json\n",
    "from openai import AzureOpenAI\n",
    "from dotenv import load_dotenv\n",
    "\n",
    "# Environment setup\n",
    "load_dotenv()\n",
    "api_key=os.environ['AZURE_OPENAI_KEY']\n",
    "deployment=os.environ['AZURE_OPENAI_DEPLOYMENT']\n",
    "api_version=os.environ['AZURE_OPENAI_VERSION']\n",
    "endpoint=os.environ['AZURE_OPENAI_ENDPOINT']\n",
    "\n",
    "#Initialize AzureOpenAI client\n",
    "client = AzureOpenAI(\n",
    "  azure_endpoint=endpoint,\n",
    "  api_key=api_key,  \n",
    "  api_version = api_version,\n",
    "  \n",
    "  )"
   ]
  },
  {
   "cell_type": "code",
   "execution_count": 2,
   "metadata": {},
   "outputs": [],
   "source": [
    "\n",
    "system_message = \"You are an assistant good in telling funny stories\"\n",
    "user_message = \"Tell me a funny story about a cat\""
   ]
  },
  {
   "cell_type": "code",
   "execution_count": 3,
   "metadata": {},
   "outputs": [
    {
     "name": "stdout",
     "output_type": "stream",
     "text": [
      "Once upon a time, in a quiet suburban neighborhood, lived a cat named Whiskers. Whiskers was not your ordinary cat. He was a cat with an attitude and a peculiar sense of humor.\n",
      "\n",
      "One day, Whiskers decided to play a prank on his human, Mr. Johnson. Mr. Johnson was a serious man who loved his routine. Every morning, he would read his newspaper, sipping his coffee, sitting in his favorite armchair. Whiskers found this routine quite boring and decided to spice things up a bit.\n",
      "\n",
      "On this particular morning, Whiskers noticed Mr. Johnson preparing his coffee. As soon as Mr. Johnson turned his back, Whiskers quickly jumped onto the counter and replaced the sugar with salt. He then sat back and watched the show unfold.\n",
      "\n",
      "Mr. Johnson, completely unaware of the switch, added a spoonful of \"sugar\" into his coffee. He sat down in his armchair, newspaper in one hand, coffee in the other. As he took his first sip, his face contorted in surprise and disgust. He spat out the coffee, exclaiming, \"What on earth?!\"\n",
      "\n",
      "Whiskers, watching from a distance, couldn't help but let out a soft, mischievous purr. His plan had worked! He had successfully pranked his human. From that day forward, Mr. Johnson always tasted his coffee before sitting down to read his newspaper, and Whiskers, well, he was just getting started with his pranks.\n",
      "\n",
      "And that's the story of Whiskers, the prankster cat, who taught his human not to take life too seriously.\n"
     ]
    }
   ],
   "source": [
    "response = client.chat.completions.create(\n",
    "  model=deployment,    \n",
    "  messages = [\n",
    "      {'role': 'system', 'content': system_message},\n",
    "      {'role': 'user', 'content': user_message}\n",
    "      ],\n",
    "  temperature=0\n",
    "  )\n",
    "\n",
    "result= response.choices[0].message.content\n",
    "print(result)"
   ]
  }
 ],
 "metadata": {
  "kernelspec": {
   "display_name": "Python 3",
   "language": "python",
   "name": "python3"
  },
  "language_info": {
   "codemirror_mode": {
    "name": "ipython",
    "version": 3
   },
   "file_extension": ".py",
   "mimetype": "text/x-python",
   "name": "python",
   "nbconvert_exporter": "python",
   "pygments_lexer": "ipython3",
   "version": "3.10.14"
  }
 },
 "nbformat": 4,
 "nbformat_minor": 2
}
