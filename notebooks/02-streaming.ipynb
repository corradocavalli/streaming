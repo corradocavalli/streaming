{
 "cells": [
  {
   "cell_type": "code",
   "execution_count": null,
   "metadata": {},
   "outputs": [],
   "source": [
    "\n",
    "import os\n",
    "import json\n",
    "from openai import AzureOpenAI\n",
    "from dotenv import load_dotenv\n",
    "\n",
    "# Environment setup\n",
    "load_dotenv()\n",
    "api_key=os.environ['AZURE_OPENAI_KEY']\n",
    "deployment=os.environ['AZURE_OPENAI_DEPLOYMENT']\n",
    "api_version=os.environ['AZURE_OPENAI_VERSION']\n",
    "endpoint=os.environ['AZURE_OPENAI_ENDPOINT']\n",
    "\n",
    "#Initialize AzureOpenAI client\n",
    "client = AzureOpenAI(  \n",
    "  api_key=api_key,  \n",
    "  api_version = api_version\n",
    "  )"
   ]
  },
  {
   "cell_type": "code",
   "execution_count": null,
   "metadata": {},
   "outputs": [],
   "source": [
    "system_message = \"You are an assistant good in telling funny stories\"\n",
    "user_message = \"Tell me a funny story about a cat\""
   ]
  },
  {
   "cell_type": "code",
   "execution_count": null,
   "metadata": {},
   "outputs": [],
   "source": [
    "response = client.chat.completions.create(\n",
    "  model=deployment,    \n",
    "  messages = [\n",
    "      {'role': 'system', 'content': system_message},\n",
    "      {'role': 'user', 'content': user_message}\n",
    "      ],\n",
    "  temperature=0,\n",
    "  stream=True)  # stream=True will return the response as a generator\n",
    "\n",
    "for chunk in response:\n",
    "    # print (chunk)\n",
    "    if len(chunk.choices) > 0:\n",
    "        delta = chunk.choices[0].delta\n",
    "\n",
    "        if delta.role:\n",
    "            print(delta.role + \": \", end=\"\", flush=True)\n",
    "        if delta.content:\n",
    "            print(delta.content, end=\"\", flush=True)"
   ]
  }
 ],
 "metadata": {
  "kernelspec": {
   "display_name": "Python 3",
   "language": "python",
   "name": "python3"
  },
  "language_info": {
   "codemirror_mode": {
    "name": "ipython",
    "version": 3
   },
   "file_extension": ".py",
   "mimetype": "text/x-python",
   "name": "python",
   "nbconvert_exporter": "python",
   "pygments_lexer": "ipython3",
   "version": "3.10.14"
  }
 },
 "nbformat": 4,
 "nbformat_minor": 2
}
