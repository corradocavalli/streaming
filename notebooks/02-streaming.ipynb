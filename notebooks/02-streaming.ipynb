{
 "cells": [
  {
   "cell_type": "code",
   "execution_count": 1,
   "metadata": {},
   "outputs": [],
   "source": [
    "\n",
    "import os\n",
    "import json\n",
    "from openai import AzureOpenAI\n",
    "from dotenv import load_dotenv\n",
    "\n",
    "# Environment setup\n",
    "load_dotenv()\n",
    "api_key=os.environ['AZURE_OPENAI_KEY']\n",
    "deployment=os.environ['AZURE_OPENAI_DEPLOYMENT']\n",
    "api_version=os.environ['AZURE_OPENAI_VERSION']\n",
    "endpoint=os.environ['AZURE_OPENAI_ENDPOINT']\n",
    "\n",
    "#Initialize AzureOpenAI client\n",
    "client = AzureOpenAI(  \n",
    "  api_key=api_key,  \n",
    "  api_version = api_version\n",
    "  )"
   ]
  },
  {
   "cell_type": "code",
   "execution_count": 2,
   "metadata": {},
   "outputs": [],
   "source": [
    "system_message = \"You are an assistant good in telling funny stories\"\n",
    "user_message = \"Tell me a funny story about a cat\""
   ]
  },
  {
   "cell_type": "code",
   "execution_count": 3,
   "metadata": {},
   "outputs": [
    {
     "name": "stdout",
     "output_type": "stream",
     "text": [
      "assistant: Once upon a time, in a quiet suburban neighborhood, lived a cat named Whiskers. Whiskers was not your ordinary cat. He was a cat with an attitude and a peculiar fascination for the neighbor's goldfish, Goldie.\n",
      "\n",
      "Every day, Whiskers would sit by the window, staring at Goldie swimming in her little fishbowl in the neighbor's house. He would dream about the day he would finally get to meet her. But there was one problem - Whiskers was terrified of water.\n",
      "\n",
      "One day, Whiskers decided to put his fear aside. He mustered up all his courage, jumped off the window sill, and made his way to the neighbor's house. He sneaked in through the open back door and tiptoed towards the fishbowl. \n",
      "\n",
      "As he was about to reach out his paw to touch the bowl, he slipped on a water puddle and with a loud splash, landed right into the fishbowl! The sight of a drenched Whiskers flailing around in the fishbowl sent Goldie into fits of bubbles, which in the fish world is equivalent to laughter.\n",
      "\n",
      "The neighbor, hearing the commotion, rushed in and found Whiskers in the fishbowl. He gently lifted him out, wrapped him in a towel, and returned him to his home. From that day on, Whiskers decided to admire Goldie from a distance, and every time he saw a fishbowl, he would remember his hilarious encounter and twitch his whiskers in amusement.\n",
      "\n",
      "And that's the story of Whiskers, the cat who tried to befriend a goldfish and ended up taking an unplanned swim!"
     ]
    }
   ],
   "source": [
    "response = client.chat.completions.create(\n",
    "  model=deployment,    \n",
    "  messages = [\n",
    "      {'role': 'system', 'content': system_message},\n",
    "      {'role': 'user', 'content': user_message}\n",
    "      ],\n",
    "  temperature=0,\n",
    "  stream=True)  # stream=True will return the response as a generator\n",
    "\n",
    "for chunk in response:\n",
    "    # print (chunk)\n",
    "    if len(chunk.choices) > 0:\n",
    "        delta = chunk.choices[0].delta\n",
    "\n",
    "        if delta.role:\n",
    "            print(delta.role + \": \", end=\"\", flush=True)\n",
    "        if delta.content:\n",
    "            print(delta.content, end=\"\", flush=True)"
   ]
  }
 ],
 "metadata": {
  "language_info": {
   "name": "python"
  }
 },
 "nbformat": 4,
 "nbformat_minor": 2
}
