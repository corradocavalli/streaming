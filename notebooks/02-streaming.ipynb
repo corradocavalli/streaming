{
 "cells": [
  {
   "cell_type": "code",
   "execution_count": 1,
   "metadata": {},
   "outputs": [],
   "source": [
    "\n",
    "import os\n",
    "import json\n",
    "from openai import AzureOpenAI\n",
    "from dotenv import load_dotenv\n",
    "\n",
    "# Environment setup\n",
    "load_dotenv()\n",
    "api_key=os.environ['AZURE_OPENAI_KEY']\n",
    "deployment=os.environ['AZURE_OPENAI_DEPLOYMENT']\n",
    "api_version=os.environ['AZURE_OPENAI_VERSION']\n",
    "endpoint=os.environ['AZURE_OPENAI_ENDPOINT']\n",
    "\n",
    "#Initialize AzureOpenAI client\n",
    "client = AzureOpenAI(  \n",
    "  api_key=api_key,  \n",
    "  api_version = api_version\n",
    "  )"
   ]
  },
  {
   "cell_type": "code",
   "execution_count": 2,
   "metadata": {},
   "outputs": [],
   "source": [
    "system_message = \"You are an assistant good in telling funny stories\"\n",
    "user_message = \"Tell me a funny story about a cat\""
   ]
  },
  {
   "cell_type": "code",
   "execution_count": 3,
   "metadata": {},
   "outputs": [
    {
     "name": "stdout",
     "output_type": "stream",
     "text": [
      "assistant: Once upon a time, in a quiet suburban neighborhood, lived a cat named Whiskers. Whiskers was not your ordinary cat. He was a cat with an attitude and a peculiar sense of humor.\n",
      "\n",
      "One day, Whiskers decided to play a prank on his human, Mr. Johnson. Mr. Johnson was a serious man who loved his routine. Every morning, he would read his newspaper, sipping his coffee, sitting in his favorite armchair. Whiskers found this routine quite boring and decided to spice things up a bit.\n",
      "\n",
      "On this particular morning, Whiskers noticed Mr. Johnson preparing his coffee. As soon as Mr. Johnson turned his back, Whiskers quickly jumped onto the counter and replaced the sugar with salt. He then sat back and watched the show unfold.\n",
      "\n",
      "Mr. Johnson, completely unaware of the switch, added a spoonful of \"sugar\" into his coffee. He took a big sip and immediately spat it out, his face turning all sorts of colors. Whiskers, watching from a distance, couldn't help but let out a soft, mischievous purr, which sounded suspiciously like a chuckle.\n",
      "\n",
      "The next day, Whiskers decided to take his prank a step further. He noticed that Mr. Johnson had a very important meeting and was preparing his documents. Seeing the opportunity, Whiskers quietly snuck up and pushed a bright red toy mouse into the pile of papers.\n",
      "\n",
      "Later that day, in the middle of his meeting, Mr. Johnson pulled out the toy mouse instead of his reports. His colleagues burst into laughter, and Mr. Johnson, although embarrassed, couldn't help but laugh too.\n",
      "\n",
      "From that day forward, Mr. Johnson's days were never dull. He never knew what Whiskers would do next. And Whiskers? Well, he was just happy to bring a little laughter into Mr. Johnson's life. After all, isn't laughter the best medicine?"
     ]
    }
   ],
   "source": [
    "response = client.chat.completions.create(\n",
    "  model=deployment,    \n",
    "  messages = [\n",
    "      {'role': 'system', 'content': system_message},\n",
    "      {'role': 'user', 'content': user_message}\n",
    "      ],\n",
    "  temperature=0,\n",
    "  stream=True)  # stream=True will return the response as a generator\n",
    "\n",
    "for chunk in response:\n",
    "    # print (chunk)\n",
    "    if len(chunk.choices) > 0:\n",
    "        delta = chunk.choices[0].delta\n",
    "\n",
    "        if delta.role:\n",
    "            print(delta.role + \": \", end=\"\", flush=True)\n",
    "        if delta.content:\n",
    "            print(delta.content, end=\"\", flush=True)"
   ]
  }
 ],
 "metadata": {
  "kernelspec": {
   "display_name": "Python 3",
   "language": "python",
   "name": "python3"
  },
  "language_info": {
   "codemirror_mode": {
    "name": "ipython",
    "version": 3
   },
   "file_extension": ".py",
   "mimetype": "text/x-python",
   "name": "python",
   "nbconvert_exporter": "python",
   "pygments_lexer": "ipython3",
   "version": "3.10.14"
  }
 },
 "nbformat": 4,
 "nbformat_minor": 2
}
