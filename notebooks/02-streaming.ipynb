{
 "cells": [
  {
   "cell_type": "code",
   "execution_count": 4,
   "metadata": {},
   "outputs": [],
   "source": [
    "\n",
    "import os\n",
    "import json\n",
    "from openai import AzureOpenAI\n",
    "from dotenv import load_dotenv\n",
    "\n",
    "# Environment setup\n",
    "load_dotenv()\n",
    "api_key=os.environ['AZURE_OPENAI_KEY']\n",
    "deployment=os.environ['AZURE_OPENAI_DEPLOYMENT']\n",
    "api_version=os.environ['AZURE_OPENAI_VERSION']\n",
    "endpoint=os.environ['AZURE_OPENAI_ENDPOINT']\n",
    "\n",
    "#Initialize AzureOpenAI client\n",
    "client = AzureOpenAI(  \n",
    "  api_key=api_key,  \n",
    "  api_version = api_version\n",
    "  )"
   ]
  },
  {
   "cell_type": "code",
   "execution_count": 5,
   "metadata": {},
   "outputs": [],
   "source": [
    "system_message = \"You are an assistant good in telling funny stories\"\n",
    "user_message = \"Tell me a funny story about a cat\""
   ]
  },
  {
   "cell_type": "code",
   "execution_count": 6,
   "metadata": {},
   "outputs": [
    {
     "name": "stdout",
     "output_type": "stream",
     "text": [
      "assistant: Once upon a time, in a quiet suburban neighborhood, lived a cat named Whiskers. Whiskers was not your ordinary cat. He was a cat with an attitude and a sense of humor.\n",
      "\n",
      "One day, Whiskers decided to play a prank on his human, Mr. Johnson. Mr. Johnson was a grumpy old man who loved his afternoon naps more than anything else. Whiskers, being the mischievous cat he was, decided to disrupt Mr. Johnson's peaceful nap.\n",
      "\n",
      "Whiskers found a ball of yarn and started rolling it around the house, making a lot of noise. Mr. Johnson woke up, grumbling and mumbling about the noise. He saw the yarn all over the place and Whiskers sitting innocently in a corner. He cleaned up the mess, grumbling all the while, and went back to his nap.\n",
      "\n",
      "But Whiskers wasn't done yet. He found a bag of flour in the kitchen and decided to have some fun. He pushed the bag until it tipped over, spilling flour all over the kitchen floor. When Mr. Johnson woke up again, he found his kitchen looking like a winter wonderland. Whiskers was sitting on the counter, covered in flour, looking like a snow cat.\n",
      "\n",
      "Mr. Johnson couldn't help but laugh at the sight. He cleaned up the mess again, this time with a smile on his face. Whiskers, satisfied with his day's work, jumped into Mr. Johnson's lap and started purring. Mr. Johnson, despite his grumpiness, couldn't resist petting Whiskers.\n",
      "\n",
      "From that day on, Whiskers continued his pranks, and Mr. Johnson's house was never quiet again. But Mr. Johnson didn't mind. He had come to enjoy Whiskers' antics and the laughter they brought into his life. And that's the story of Whiskers, the cat who turned a grumpy old man into a laughing one."
     ]
    }
   ],
   "source": [
    "response = client.chat.completions.create(\n",
    "  model=deployment,    \n",
    "  messages = [\n",
    "      {'role': 'system', 'content': system_message},\n",
    "      {'role': 'user', 'content': user_message}\n",
    "      ],\n",
    "  temperature=0,\n",
    "  stream=True)  # stream=True will return the response as a generator\n",
    "\n",
    "for chunk in response:\n",
    "    # print (chunk)\n",
    "    if len(chunk.choices) > 0:\n",
    "        delta = chunk.choices[0].delta\n",
    "\n",
    "        if delta.role:\n",
    "            print(delta.role + \": \", end=\"\", flush=True)\n",
    "        if delta.content:\n",
    "            print(delta.content, end=\"\", flush=True)"
   ]
  }
 ],
 "metadata": {
  "language_info": {
   "name": "python"
  }
 },
 "nbformat": 4,
 "nbformat_minor": 2
}
